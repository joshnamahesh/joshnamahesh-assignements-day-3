{
 "cells": [
  {
   "cell_type": "code",
   "execution_count": 5,
   "metadata": {},
   "outputs": [
    {
     "name": "stdout",
     "output_type": "stream",
     "text": [
      "main string is:   eat earn evil easy\n",
      "inex posistions of 'e' are:   e\n"
     ]
    }
   ],
   "source": [
    "main_str=\"eat earn evil easy\"\n",
    "result=(main_str,'e')\n",
    "print(\"main string is:  \",result[0])\n",
    "print(\"inex posistions of 'e' are:  \",result[1])"
   ]
  },
  {
   "cell_type": "code",
   "execution_count": 10,
   "metadata": {},
   "outputs": [
    {
     "name": "stdout",
     "output_type": "stream",
     "text": [
      "Occurrence Count of overlapping sub-strings 'that' :  3\n",
      "Index Positions of 'that' are :  [0, 3, 7]\n"
     ]
    }
   ],
   "source": [
    "def frequencyCountAndPositions(mainStr, subStr):\n",
    "    counter = pos = 0\n",
    "    indexpos = []\n",
    "    while(True):\n",
    "        pos = mainStr.find(subStr , pos)\n",
    "        if pos > -1:\n",
    "            indexpos.append(pos)\n",
    "            counter = counter + 1\n",
    "            pos = pos + 1\n",
    "        else:\n",
    "            break\n",
    "    return (counter, indexpos)\n",
    "mainStr = 'thathatthat'\n",
    "result = frequencyCountAndPositions(mainStr, 'that')\n",
    "print(\"Occurrence Count of overlapping sub-strings 'that' : \", result[0])\n",
    "print(\"Index Positions of 'that' are : \", result[1])"
   ]
  },
  {
   "cell_type": "code",
   "execution_count": 18,
   "metadata": {},
   "outputs": [
    {
     "name": "stdout",
     "output_type": "stream",
     "text": [
      "enter the string:  mbdgoud#$%^\n",
      "False\n"
     ]
    }
   ],
   "source": [
    "a=str(input(\"enter the string:  \"))\n",
    "print(a.isupper())"
   ]
  },
  {
   "cell_type": "code",
   "execution_count": 19,
   "metadata": {},
   "outputs": [
    {
     "name": "stdout",
     "output_type": "stream",
     "text": [
      "True\n"
     ]
    }
   ],
   "source": [
    "print(a.islower())"
   ]
  },
  {
   "cell_type": "code",
   "execution_count": 20,
   "metadata": {},
   "outputs": [
    {
     "name": "stdout",
     "output_type": "stream",
     "text": [
      "enter the string:  @#$%^&*()\n",
      "False\n"
     ]
    }
   ],
   "source": [
    "b=str(input(\"enter the string:  \"))\n",
    "print(b.isupper())"
   ]
  },
  {
   "cell_type": "code",
   "execution_count": 21,
   "metadata": {},
   "outputs": [
    {
     "name": "stdout",
     "output_type": "stream",
     "text": [
      "False\n"
     ]
    }
   ],
   "source": [
    "print(b.islower())"
   ]
  },
  {
   "cell_type": "code",
   "execution_count": null,
   "metadata": {},
   "outputs": [],
   "source": []
  }
 ],
 "metadata": {
  "kernelspec": {
   "display_name": "Python 3",
   "language": "python",
   "name": "python3"
  },
  "language_info": {
   "codemirror_mode": {
    "name": "ipython",
    "version": 3
   },
   "file_extension": ".py",
   "mimetype": "text/x-python",
   "name": "python",
   "nbconvert_exporter": "python",
   "pygments_lexer": "ipython3",
   "version": "3.7.6"
  }
 },
 "nbformat": 4,
 "nbformat_minor": 4
}
