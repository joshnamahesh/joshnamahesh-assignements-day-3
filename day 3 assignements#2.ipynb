{
 "cells": [
  {
   "cell_type": "code",
   "execution_count": 24,
   "metadata": {},
   "outputs": [
    {
     "name": "stdout",
     "output_type": "stream",
     "text": [
      "enter the num:    2\n",
      "num is prime\n"
     ]
    }
   ],
   "source": [
    "num=int(input(\"enter the num:    \"))\n",
    "i=1\n",
    "ini=0;\n",
    "for i in range(2,num):\n",
    "    if(num%i)>0:\n",
    "        print('num is not prime')\n",
    "        ini=1\n",
    "        break\n",
    "if (ini==0):\n",
    "    print ('num is prime')\n",
    "\n"
   ]
  },
  {
   "cell_type": "code",
   "execution_count": 25,
   "metadata": {},
   "outputs": [
    {
     "name": "stdout",
     "output_type": "stream",
     "text": [
      "enter the number1212\n",
      "sum of digits 24\n"
     ]
    }
   ],
   "source": [
    "num=int(input(\"enter the number\"))\n",
    "initial=0\n",
    "hold =num\n",
    "while(num>0):\n",
    "    sum1=+num%100\n",
    "    initial=initial+sum1\n",
    "    num=int(num/100)\n",
    "print(\"sum of digits\",initial)"
   ]
  },
  {
   "cell_type": "code",
   "execution_count": null,
   "metadata": {},
   "outputs": [],
   "source": []
  }
 ],
 "metadata": {
  "kernelspec": {
   "display_name": "Python 3",
   "language": "python",
   "name": "python3"
  },
  "language_info": {
   "codemirror_mode": {
    "name": "ipython",
    "version": 3
   },
   "file_extension": ".py",
   "mimetype": "text/x-python",
   "name": "python",
   "nbconvert_exporter": "python",
   "pygments_lexer": "ipython3",
   "version": "3.7.6"
  }
 },
 "nbformat": 4,
 "nbformat_minor": 4
}
